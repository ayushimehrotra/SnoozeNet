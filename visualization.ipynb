{
 "cells": [
  {
   "cell_type": "code",
   "execution_count": 1,
   "id": "aa4e9b0e-6a46-4453-86a7-b72dde0edae8",
   "metadata": {},
   "outputs": [],
   "source": [
    "from dataloader import load_data, stft\n",
    "import numpy as np\n",
    "import matplotlib.pyplot as plt"
   ]
  },
  {
   "cell_type": "code",
   "execution_count": 2,
   "id": "6cc3c3a3-712f-4508-9e4f-e869bb1b63c3",
   "metadata": {},
   "outputs": [],
   "source": [
    "data = load_data(\"datasets/sleep-cassette-EDF\")"
   ]
  },
  {
   "cell_type": "code",
   "execution_count": 3,
   "id": "e4cca0eb-09de-4d8f-af3d-6a816cbb9518",
   "metadata": {},
   "outputs": [],
   "source": [
    "stft_data = stft(data[:10], 83, 45, 83)"
   ]
  },
  {
   "cell_type": "code",
   "execution_count": 4,
   "id": "c5aa380d-05fa-46e2-b067-61c8dba7d8c0",
   "metadata": {
    "scrolled": true
   },
   "outputs": [
    {
     "data": {
      "text/plain": [
       "<Figure size 640x480 with 0 Axes>"
      ]
     },
     "metadata": {},
     "output_type": "display_data"
    }
   ],
   "source": [
    "for i in range(4):\n",
    "    index = 0\n",
    "    while data[0][1][index] != i:\n",
    "        index+=1\n",
    "    \n",
    "    times = [x for x in range(3000)]\n",
    "    eeg = data[0][0][index]\n",
    "    \n",
    "    plt.plot(times, eeg)\n",
    "    plt.xlabel('time (s)')\n",
    "    plt.ylabel('EEG data')\n",
    "    plt.savefig(\"raw_stft/n\"+str(i)+\"_eeg.jpg\")\n",
    "    plt.clf()"
   ]
  },
  {
   "cell_type": "code",
   "execution_count": 5,
   "id": "e5c893d6-c82f-48ae-aaec-ecbda5986289",
   "metadata": {},
   "outputs": [
    {
     "data": {
      "text/plain": [
       "<Figure size 640x480 with 0 Axes>"
      ]
     },
     "metadata": {},
     "output_type": "display_data"
    }
   ],
   "source": [
    "for i in range(4):\n",
    "    index = 0\n",
    "    while data[0][1][index] != i:\n",
    "        index+=1\n",
    "    \n",
    "    plt.imshow(stft_data[0][0][index], interpolation='none')\n",
    "    plt.savefig(\"raw_stft/n\"+str(i)+\"_raw_stft.jpg\")\n",
    "    plt.clf()\n"
   ]
  },
  {
   "cell_type": "code",
   "execution_count": 11,
   "id": "2b6ea194-10a6-44d4-a92a-c49c05960a2e",
   "metadata": {},
   "outputs": [
    {
     "name": "stdout",
     "output_type": "stream",
     "text": [
      "torch.Size([80, 1])\n"
     ]
    }
   ],
   "source": [
    "from utils import attention\n",
    "import torch\n",
    "\n",
    "x = np.array(stft_data[0][0][index][0])\n",
    "\n",
    "y = torch.tensor(np.expand_dims(x, axis=-1))\n",
    "print(y.shape)\n",
    "w = [z[0] for z in attention(y, y, y)[0]]\n",
    "avg = np.average(x, weights=w)\n",
    "\n",
    "# plt.imshow(attention(x,x,x)[0].numpy(), interpolation='none')"
   ]
  },
  {
   "cell_type": "code",
   "execution_count": null,
   "id": "096565e0-7a7c-46cc-9005-7d82b6dc36ac",
   "metadata": {},
   "outputs": [],
   "source": []
  },
  {
   "cell_type": "code",
   "execution_count": null,
   "id": "44a0af2d-3e27-4409-bed8-657239c3ef51",
   "metadata": {},
   "outputs": [],
   "source": []
  }
 ],
 "metadata": {
  "kernelspec": {
   "display_name": "Python 3 (ipykernel)",
   "language": "python",
   "name": "python3"
  },
  "language_info": {
   "codemirror_mode": {
    "name": "ipython",
    "version": 3
   },
   "file_extension": ".py",
   "mimetype": "text/x-python",
   "name": "python",
   "nbconvert_exporter": "python",
   "pygments_lexer": "ipython3",
   "version": "3.10.14"
  }
 },
 "nbformat": 4,
 "nbformat_minor": 5
}
